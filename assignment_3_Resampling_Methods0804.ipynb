{
  "cells": [
    {
      "cell_type": "markdown",
      "metadata": {
        "id": "view-in-github",
        "colab_type": "text"
      },
      "source": [
        "<a href=\"https://colab.research.google.com/github/iceman025/Diamond/blob/main/assignment_3_Resampling_Methods0804.ipynb\" target=\"_parent\"><img src=\"https://colab.research.google.com/assets/colab-badge.svg\" alt=\"Open In Colab\"/></a>"
      ]
    },
    {
      "cell_type": "code",
      "execution_count": null,
      "metadata": {
        "id": "bOF0UkXVQu42"
      },
      "outputs": [],
      "source": [
        "# load pachages\n",
        "library(readr)\n",
        "library(dplyr)\n",
        "library(tidyr)\n",
        "library(ggplot2)\n",
        "library(readxl)\n",
        "install.packages(\"ISLR\")\n",
        "library (ISLR)\n",
        "library(tidyverse)\n",
        "install.packages(\"datarium\")\n",
        "install.packages(\"ISLR2\")\n",
        "library(ISLR2)"
      ]
    },
    {
      "cell_type": "markdown",
      "metadata": {
        "id": "oUoN9Lf5DsEz"
      },
      "source": [
        "1. analysis of diamond data set\n",
        "\n",
        "\n",
        "\n"
      ]
    },
    {
      "cell_type": "code",
      "execution_count": null,
      "metadata": {
        "id": "mHAFv3HERFD8"
      },
      "outputs": [],
      "source": [
        "# data import and cleaning of diamond\n",
        "data(diamonds)\n",
        "summary(diamonds)"
      ]
    },
    {
      "cell_type": "code",
      "execution_count": null,
      "metadata": {
        "id": "sFMK3VfgdqP6"
      },
      "outputs": [],
      "source": [
        "# full regression model building of diamond data set\n",
        "lm1= lm(log(price)~ log(carat) + cut+color+clarity, data=diamonds)\n",
        "summary(lm1)\n"
      ]
    },
    {
      "cell_type": "code",
      "execution_count": null,
      "metadata": {
        "id": "9Vj5PKIXzzoZ"
      },
      "outputs": [],
      "source": [
        "# data split of diamond\n",
        "rows <- sample(nrow(diamonds))\n",
        "diamonds <- diamonds[rows, ]\n",
        "split <- round(nrow(diamonds) * .80)\n",
        "train <- diamonds[1:split, ]\n",
        "test <- diamonds[(split + 1):nrow(diamonds), ]\n"
      ]
    },
    {
      "cell_type": "code",
      "execution_count": null,
      "metadata": {
        "id": "soO_h0P92o05"
      },
      "outputs": [],
      "source": [
        "# regression model of train data of diamond\n",
        "lm2 =lm(formula = log(price) ~ log(carat) + cut + color + clarity, \n",
        "     data=train)\n",
        "     summary(lm2)\n",
        "# print lm2\n",
        "     lm2"
      ]
    },
    {
      "cell_type": "code",
      "execution_count": null,
      "metadata": {
        "id": "zciXPPZgwgTu"
      },
      "outputs": [],
      "source": [
        "# price prediction of test data of diamond\n",
        "modelEstimate2 = predict(lm2, subset= test,\n",
        "                          interval=\"prediction\",level = .95) \n",
        "modelEstimate2\n",
        "exp(modelEstimate2)"
      ]
    },
    {
      "cell_type": "code",
      "execution_count": null,
      "metadata": {
        "id": "T_ktAUykx_53"
      },
      "outputs": [],
      "source": [
        "install.packages(\"ISLR2\")\n",
        "library(ISLR2)\n",
        "set.seed (1)\n",
        "train <- sample (440 , 220)"
      ]
    },
    {
      "cell_type": "code",
      "execution_count": null,
      "metadata": {
        "id": "45GllwXv2bKG"
      },
      "outputs": [],
      "source": [
        "# The Validation Set Approach of diamond\n",
        "set.seed (1)\n",
        "train <- sample (440 , 220)\n",
        "# calculate the MSE of the observations in the validation set of diamond\n",
        "model_summ <-summary(lm2)\n",
        "mean(model_summ$residuals^2)"
      ]
    },
    {
      "cell_type": "code",
      "execution_count": null,
      "metadata": {
        "colab": {
          "background_save": true,
          "base_uri": "https://localhost:8080/",
          "height": 85
        },
        "id": "9pWGK4W0nw2a",
        "outputId": "061e23dc-de71-4e5d-c335-9be019f92fdc"
      },
      "outputs": [
        {
          "data": {
            "text/html": [
              "<style>\n",
              ".dl-inline {width: auto; margin:0; padding: 0}\n",
              ".dl-inline>dt, .dl-inline>dd {float: none; width: auto; display: inline-block}\n",
              ".dl-inline>dt::after {content: \":\\0020\"; padding-right: .5ex}\n",
              ".dl-inline>dt:not(:first-of-type) {padding-left: .5ex}\n",
              "</style><dl class=dl-inline><dt>(Intercept)</dt><dd>8.45702981918654</dd><dt>log(carat)</dt><dd>1.8837175489254</dd><dt>cut.L</dt><dd>0.12071410677101</dd><dt>cut.Q</dt><dd>-0.0351147132281319</dd><dt>cut.C</dt><dd>0.0134791211652003</dd><dt>cut^4</dt><dd>-0.00156156415596294</dd><dt>color.L</dt><dd>-0.439575925122948</dd><dt>color.Q</dt><dd>-0.0956234274965389</dd><dt>color.C</dt><dd>-0.01478314850285</dd><dt>color^4</dt><dd>0.0118516615377754</dd><dt>color^5</dt><dd>-0.00220114888900391</dd><dt>color^6</dt><dd>0.0023911858589985</dd><dt>clarity.L</dt><dd>0.916832285901845</dd><dt>clarity.Q</dt><dd>-0.2430383554059</dd><dt>clarity.C</dt><dd>0.132399930937019</dd><dt>clarity^4</dt><dd>-0.0661043113137523</dd><dt>clarity^5</dt><dd>0.0274182295917459</dd><dt>clarity^6</dt><dd>-0.00181873371754313</dd><dt>clarity^7</dt><dd>0.0335310022719291</dd></dl>\n"
            ],
            "text/latex": "\\begin{description*}\n\\item[(Intercept)] 8.45702981918654\n\\item[log(carat)] 1.8837175489254\n\\item[cut.L] 0.12071410677101\n\\item[cut.Q] -0.0351147132281319\n\\item[cut.C] 0.0134791211652003\n\\item[cut\\textbackslash{}textasciicircum\\{\\}4] -0.00156156415596294\n\\item[color.L] -0.439575925122948\n\\item[color.Q] -0.0956234274965389\n\\item[color.C] -0.01478314850285\n\\item[color\\textbackslash{}textasciicircum\\{\\}4] 0.0118516615377754\n\\item[color\\textbackslash{}textasciicircum\\{\\}5] -0.00220114888900391\n\\item[color\\textbackslash{}textasciicircum\\{\\}6] 0.0023911858589985\n\\item[clarity.L] 0.916832285901845\n\\item[clarity.Q] -0.2430383554059\n\\item[clarity.C] 0.132399930937019\n\\item[clarity\\textbackslash{}textasciicircum\\{\\}4] -0.0661043113137523\n\\item[clarity\\textbackslash{}textasciicircum\\{\\}5] 0.0274182295917459\n\\item[clarity\\textbackslash{}textasciicircum\\{\\}6] -0.00181873371754313\n\\item[clarity\\textbackslash{}textasciicircum\\{\\}7] 0.0335310022719291\n\\end{description*}\n",
            "text/markdown": "(Intercept)\n:   8.45702981918654log(carat)\n:   1.8837175489254cut.L\n:   0.12071410677101cut.Q\n:   -0.0351147132281319cut.C\n:   0.0134791211652003cut^4\n:   -0.00156156415596294color.L\n:   -0.439575925122948color.Q\n:   -0.0956234274965389color.C\n:   -0.01478314850285color^4\n:   0.0118516615377754color^5\n:   -0.00220114888900391color^6\n:   0.0023911858589985clarity.L\n:   0.916832285901845clarity.Q\n:   -0.2430383554059clarity.C\n:   0.132399930937019clarity^4\n:   -0.0661043113137523clarity^5\n:   0.0274182295917459clarity^6\n:   -0.00181873371754313clarity^7\n:   0.0335310022719291\n\n",
            "text/plain": [
              " (Intercept)   log(carat)        cut.L        cut.Q        cut.C        cut^4 \n",
              " 8.457029819  1.883717549  0.120714107 -0.035114713  0.013479121 -0.001561564 \n",
              "     color.L      color.Q      color.C      color^4      color^5      color^6 \n",
              "-0.439575925 -0.095623427 -0.014783149  0.011851662 -0.002201149  0.002391186 \n",
              "   clarity.L    clarity.Q    clarity.C    clarity^4    clarity^5    clarity^6 \n",
              " 0.916832286 -0.243038355  0.132399931 -0.066104311  0.027418230 -0.001818734 \n",
              "   clarity^7 \n",
              " 0.033531002 "
            ]
          },
          "metadata": {},
          "output_type": "display_data"
        }
      ],
      "source": [
        " #Leave-One-Out Cross-Validation of diamond\n",
        " library (boot)\n",
        " library(ISLR)\n",
        " attach(diamonds)\n",
        "glm.fit=glm(log(price) ~ log(carat) + cut + color + clarity ,data=diamonds)\n",
        "  coef(glm.fit)\n",
        " cv.err =cv.glm(diamonds,glm.fit)\n",
        " cv.err$delta\n",
        " cv.error <- rep(0, 10)\n",
        "cv.error"
      ]
    },
    {
      "cell_type": "code",
      "execution_count": null,
      "metadata": {
        "id": "Cvx40zr74JR6"
      },
      "outputs": [],
      "source": [
        "# 10 k-Fold Cross-Validation of diamond\n",
        " set.seed (17)\n",
        " cv.error.10 <- rep(0, 10)\n",
        "cv.error.10\n",
        "data(diamonds, package=\"MASS\")\n",
        "lm2 =lm(formula = log(Price) ~ log(Carat) + Cut + Colour + Clarity, \n",
        "     data=diamonds)\n",
        "cv.err <- cv.glm(diamonds,lm2)$delta \n",
        "cv.err.10 <- cv.glm(diamonds,lm2, K = 10)$delta"
      ]
    },
    {
      "cell_type": "code",
      "execution_count": null,
      "metadata": {
        "id": "C0WKKSiT6m-w"
      },
      "outputs": [],
      "source": [
        "cv.error=rep (0,5)\n",
        "for (i in 1:5){\n",
        "  glm.fit=glm(log(Price) ~ log(Carat) + Cut + Colour + Clarity ,data=diamonds)\n",
        "  cv.error[i]=cv.glm (diamonds ,glm.fit)$delta [1]\n",
        "  }\n",
        "cv.error"
      ]
    },
    {
      "cell_type": "code",
      "execution_count": null,
      "metadata": {
        "id": "YzSfeAx4Hbtt"
      },
      "outputs": [],
      "source": [
        "#Bootstrap on Regression\n",
        "\n",
        "alpha.fn=function (train,index){\n",
        "+ X<-train$X [index]\n",
        "+ Y<-train$Y [index]\n",
        "+ return ((var(Y)-cov (X,Y))/(var(X)+var(Y) -2* cov(X,Y))) # portfolio risk\n",
        "}\n",
        "alpha.fn(Portfolio,1:100) # actual result\n",
        "set.seed (1)\n",
        "alpha.fn(Portfolio ,sample (100 ,100 , replace =T))# performing the bootstrap\n",
        "boot(portfolio,alpha.fn,R=1000) # very close to actual result and also has standard error"
      ]
    },
    {
      "cell_type": "code",
      "execution_count": null,
      "metadata": {
        "id": "QZBmYvZVILO1"
      },
      "outputs": [],
      "source": [
        "# bootstarp on liner regression& estimating the accuracy\n",
        "boot.fn <- function(diamonds,index){\n",
        "return(coef(lm(log(Price) ~ log(Carat) + Cut + Colour + Clarity),data=train, subset=index)))}\n",
        "boot.fn(diamonds,1:392)\n",
        "set.seed(1)\n",
        "boot.fn(diamonds,sample(392,392,replace=T))\n",
        "boot(diamonds,boot.fn,1000)"
      ]
    },
    {
      "cell_type": "markdown",
      "metadata": {
        "id": "TPvIk8EtDiPR"
      },
      "source": [
        "2. analysis of bank data set\n"
      ]
    },
    {
      "cell_type": "code",
      "execution_count": null,
      "metadata": {
        "id": "n8c-0qxYZYGB"
      },
      "outputs": [],
      "source": [
        "#  bank data import\n",
        "df_bank<-read_delim(\"https://raw.githubusercontent.com/iceman025/bank-assignment-02/main/bank-additional-full.csv\",delim = \";\")\n",
        "str(df_bank)\n",
        "head(df_bank)\n",
        "sum(is.na(df_bank))\n",
        "glimpse(df_bank)"
      ]
    },
    {
      "cell_type": "code",
      "execution_count": null,
      "metadata": {
        "id": "THwf1Oh8D2BS"
      },
      "outputs": [],
      "source": [
        "# model building \n",
        "model_full <- glm(formula =as.factor(y)~duration + month + poutcome + emp.var.rate + job + cons.price.idx + \n",
        "    contact + euribor3m + day_of_week + campaign + pdays + education + \n",
        "    cons.conf.idx + default , \n",
        " family = \"binomial\", data = df_bank)\n",
        "     summary(model_full)"
      ]
    },
    {
      "cell_type": "code",
      "execution_count": null,
      "metadata": {
        "id": "gDSyHKFCF9GQ"
      },
      "outputs": [],
      "source": [
        "# The Validation Set Approach of diamond\n",
        "install.packages(\"ISLR2\")\n",
        "library(ISLR2)\n",
        "set.seed (1)\n",
        "train <- sample (440 , 220)\n",
        "# calculate the MSE of the observations in the validation set of diamond\n",
        "model_summ2 <-summary(model)\n",
        "mean(model_summ$residuals^2)"
      ]
    },
    {
      "cell_type": "code",
      "execution_count": null,
      "metadata": {
        "id": "hYz3gL1SGIA1"
      },
      "outputs": [],
      "source": [
        " #Leave-One-Out Cross-Validation of bank\n",
        " library (boot)\n",
        "glm.fit=glm(as.factor(y)~duration + month + poutcome + emp.var.rate + job + cons.price.idx + \n",
        "    contact + euribor3m + day_of_week + campaign + pdays + education + \n",
        "    cons.conf.idx + default  ,data=df_bank)\n",
        " cv.err =cv.glm(df_bank ,glm.fit)\n",
        " cv.err$delta\n",
        " coef(glm.fit)\n",
        " cv.error <- rep(0, 10)\n",
        "cv.error"
      ]
    },
    {
      "cell_type": "code",
      "execution_count": null,
      "metadata": {
        "id": "umA-_sUuGXC4"
      },
      "outputs": [],
      "source": [
        "# 10 k-Fold Cross-Validation of bank\n",
        " set.seed (17)\n",
        " cv.error.10 <- rep(0, 10)\n",
        "cv.error.10\n",
        "data(train, package=\"MASS\")\n",
        "model <- glm(formula =as.factor(y)~duration + month + poutcome + emp.var.rate + job + cons.price.idx + \n",
        "    contact + euribor3m + day_of_week + campaign + pdays + education + \n",
        "    cons.conf.idx + default , \n",
        "  data = df_bank)\n",
        "cv.err <- cv.glm(df_bank,model_full)$delta \n",
        "cv.err.10 <- cv.glm(df_bank,model_full, K = 10)$delta"
      ]
    },
    {
      "cell_type": "code",
      "execution_count": null,
      "metadata": {
        "id": "kcptEqUZ1eIw"
      },
      "outputs": [],
      "source": [
        "#Bootstrap on Regression\n",
        "\n",
        "alpha.fn=function (df_bank,index){\n",
        "+ X<-df_bank$X [index]\n",
        "+ Y<-df_bank$Y [index]\n",
        "+ return ((var(Y)-cov (X,Y))/(var(X)+var(Y) -2* cov(X,Y))) # portfolio risk\n",
        "}\n",
        "alpha.fn(Portfolio,1:100) # actual result\n",
        "set.seed (1)\n",
        "alpha.fn(Portfolio ,sample (100 ,100 , replace =T))# performing the bootstrap\n",
        "boot(portfolio,alpha.fn,R=1000) # very close to actual result and also has standard error"
      ]
    },
    {
      "cell_type": "code",
      "execution_count": null,
      "metadata": {
        "id": "Aad3GSxxMxy6"
      },
      "outputs": [],
      "source": [
        "# bootstarp on liner regression& estimating the accuracy\n",
        "boot.fn <- function(df_bank,index){\n",
        "return(coef(as.factor(y)~duration + month + poutcome + emp.var.rate + job + cons.price.idx + \n",
        "    contact + euribor3m + day_of_week + campaign + pdays + education + \n",
        "    cons.conf.idx + default,data=df_bank, subset=index)))}\n",
        "boot.fn(df_bank,1:392)\n",
        "set.seed(1)\n",
        "boot.fn(df_bank,sample(392,392,replace=T))\n",
        "boot(df_bank,boot.fn,1000)"
      ]
    }
  ],
  "metadata": {
    "colab": {
      "collapsed_sections": [],
      "name": "assignment 3-Resampling_Methods0804.ipynb",
      "provenance": [],
      "include_colab_link": true
    },
    "kernelspec": {
      "display_name": "R",
      "name": "ir"
    },
    "language_info": {
      "name": "R"
    }
  },
  "nbformat": 4,
  "nbformat_minor": 0
}